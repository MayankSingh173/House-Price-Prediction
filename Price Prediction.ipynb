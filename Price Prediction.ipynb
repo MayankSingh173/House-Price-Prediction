{
 "cells": [
  {
   "cell_type": "markdown",
   "id": "ead8f007",
   "metadata": {},
   "source": [
    "# Real State Price Predictor"
   ]
  },
  {
   "cell_type": "code",
   "execution_count": 1,
   "id": "2c836288",
   "metadata": {},
   "outputs": [],
   "source": [
    "import pandas as pd\n",
    "\n",
    "# means we need to show plots in this file only\n",
    "%matplotlib inline\n",
    "\n",
    "import numpy as np\n"
   ]
  },
  {
   "cell_type": "code",
   "execution_count": 2,
   "id": "02aa81f9",
   "metadata": {},
   "outputs": [],
   "source": [
    "housing = pd.read_csv(\"data.csv\")"
   ]
  },
  {
   "cell_type": "code",
   "execution_count": 3,
   "id": "6d1a3648",
   "metadata": {},
   "outputs": [
    {
     "data": {
      "text/html": [
       "<div>\n",
       "<style scoped>\n",
       "    .dataframe tbody tr th:only-of-type {\n",
       "        vertical-align: middle;\n",
       "    }\n",
       "\n",
       "    .dataframe tbody tr th {\n",
       "        vertical-align: top;\n",
       "    }\n",
       "\n",
       "    .dataframe thead th {\n",
       "        text-align: right;\n",
       "    }\n",
       "</style>\n",
       "<table border=\"1\" class=\"dataframe\">\n",
       "  <thead>\n",
       "    <tr style=\"text-align: right;\">\n",
       "      <th></th>\n",
       "      <th>CRIM</th>\n",
       "      <th>ZN</th>\n",
       "      <th>INDUS</th>\n",
       "      <th>CHAS</th>\n",
       "      <th>NOX</th>\n",
       "      <th>RM</th>\n",
       "      <th>AGE</th>\n",
       "      <th>DIS</th>\n",
       "      <th>RAD</th>\n",
       "      <th>TAX</th>\n",
       "      <th>PTRATION</th>\n",
       "      <th>B</th>\n",
       "      <th>LSTAT</th>\n",
       "      <th>MEDV</th>\n",
       "    </tr>\n",
       "  </thead>\n",
       "  <tbody>\n",
       "    <tr>\n",
       "      <th>0</th>\n",
       "      <td>0.00632</td>\n",
       "      <td>18.0</td>\n",
       "      <td>2.31</td>\n",
       "      <td>0</td>\n",
       "      <td>0.538</td>\n",
       "      <td>6.575</td>\n",
       "      <td>65.2</td>\n",
       "      <td>4.0900</td>\n",
       "      <td>1</td>\n",
       "      <td>296</td>\n",
       "      <td>15.3</td>\n",
       "      <td>396.90</td>\n",
       "      <td>4.98</td>\n",
       "      <td>24.0</td>\n",
       "    </tr>\n",
       "    <tr>\n",
       "      <th>1</th>\n",
       "      <td>0.02731</td>\n",
       "      <td>0.0</td>\n",
       "      <td>7.07</td>\n",
       "      <td>0</td>\n",
       "      <td>0.469</td>\n",
       "      <td>6.421</td>\n",
       "      <td>78.9</td>\n",
       "      <td>4.9671</td>\n",
       "      <td>2</td>\n",
       "      <td>242</td>\n",
       "      <td>17.8</td>\n",
       "      <td>396.90</td>\n",
       "      <td>9.14</td>\n",
       "      <td>21.6</td>\n",
       "    </tr>\n",
       "    <tr>\n",
       "      <th>2</th>\n",
       "      <td>0.02729</td>\n",
       "      <td>0.0</td>\n",
       "      <td>7.07</td>\n",
       "      <td>0</td>\n",
       "      <td>0.469</td>\n",
       "      <td>NaN</td>\n",
       "      <td>61.1</td>\n",
       "      <td>4.9671</td>\n",
       "      <td>2</td>\n",
       "      <td>242</td>\n",
       "      <td>17.8</td>\n",
       "      <td>392.83</td>\n",
       "      <td>4.03</td>\n",
       "      <td>34.7</td>\n",
       "    </tr>\n",
       "    <tr>\n",
       "      <th>3</th>\n",
       "      <td>0.03237</td>\n",
       "      <td>0.0</td>\n",
       "      <td>2.18</td>\n",
       "      <td>0</td>\n",
       "      <td>0.458</td>\n",
       "      <td>6.998</td>\n",
       "      <td>45.8</td>\n",
       "      <td>6.0622</td>\n",
       "      <td>3</td>\n",
       "      <td>222</td>\n",
       "      <td>18.7</td>\n",
       "      <td>394.63</td>\n",
       "      <td>2.94</td>\n",
       "      <td>33.4</td>\n",
       "    </tr>\n",
       "    <tr>\n",
       "      <th>4</th>\n",
       "      <td>0.06905</td>\n",
       "      <td>0.0</td>\n",
       "      <td>2.18</td>\n",
       "      <td>0</td>\n",
       "      <td>0.458</td>\n",
       "      <td>7.147</td>\n",
       "      <td>54.2</td>\n",
       "      <td>6.0622</td>\n",
       "      <td>3</td>\n",
       "      <td>222</td>\n",
       "      <td>18.7</td>\n",
       "      <td>396.90</td>\n",
       "      <td>5.33</td>\n",
       "      <td>36.2</td>\n",
       "    </tr>\n",
       "  </tbody>\n",
       "</table>\n",
       "</div>"
      ],
      "text/plain": [
       "      CRIM    ZN  INDUS  CHAS    NOX     RM   AGE     DIS  RAD  TAX  PTRATION  \\\n",
       "0  0.00632  18.0   2.31     0  0.538  6.575  65.2  4.0900    1  296      15.3   \n",
       "1  0.02731   0.0   7.07     0  0.469  6.421  78.9  4.9671    2  242      17.8   \n",
       "2  0.02729   0.0   7.07     0  0.469    NaN  61.1  4.9671    2  242      17.8   \n",
       "3  0.03237   0.0   2.18     0  0.458  6.998  45.8  6.0622    3  222      18.7   \n",
       "4  0.06905   0.0   2.18     0  0.458  7.147  54.2  6.0622    3  222      18.7   \n",
       "\n",
       "        B  LSTAT  MEDV  \n",
       "0  396.90   4.98  24.0  \n",
       "1  396.90   9.14  21.6  \n",
       "2  392.83   4.03  34.7  \n",
       "3  394.63   2.94  33.4  \n",
       "4  396.90   5.33  36.2  "
      ]
     },
     "execution_count": 3,
     "metadata": {},
     "output_type": "execute_result"
    }
   ],
   "source": [
    "housing.head()"
   ]
  },
  {
   "cell_type": "code",
   "execution_count": 4,
   "id": "8b6763f1",
   "metadata": {},
   "outputs": [
    {
     "data": {
      "text/plain": [
       "array([[<AxesSubplot:title={'center':'CRIM'}>,\n",
       "        <AxesSubplot:title={'center':'ZN'}>,\n",
       "        <AxesSubplot:title={'center':'INDUS'}>,\n",
       "        <AxesSubplot:title={'center':'CHAS'}>],\n",
       "       [<AxesSubplot:title={'center':'NOX'}>,\n",
       "        <AxesSubplot:title={'center':'RM'}>,\n",
       "        <AxesSubplot:title={'center':'AGE'}>,\n",
       "        <AxesSubplot:title={'center':'DIS'}>],\n",
       "       [<AxesSubplot:title={'center':'RAD'}>,\n",
       "        <AxesSubplot:title={'center':'TAX'}>,\n",
       "        <AxesSubplot:title={'center':'PTRATION'}>,\n",
       "        <AxesSubplot:title={'center':'B'}>],\n",
       "       [<AxesSubplot:title={'center':'LSTAT'}>,\n",
       "        <AxesSubplot:title={'center':'MEDV'}>, <AxesSubplot:>,\n",
       "        <AxesSubplot:>]], dtype=object)"
      ]
     },
     "execution_count": 4,
     "metadata": {},
     "output_type": "execute_result"
    },
    {
     "data": {
      "image/png": "[encoded data removed]",
      "text/plain": [
       "<Figure size 1440x1080 with 16 Axes>"
      ]
     },
     "metadata": {
      "needs_background": "light"
     },
     "output_type": "display_data"
    }
   ],
   "source": [
    "# For plotting histograms\n",
    "\n",
    "import matplotlib.pyplot as plt\n",
    "housing.hist(bins=20, figsize=(20, 15))"
   ]
  },
  {
   "cell_type": "markdown",
   "id": "01461ade",
   "metadata": {},
   "source": [
    "## Train-Test Splitting"
   ]
  },
  {
   "cell_type": "code",
   "execution_count": 5,
   "id": "ffba33b7",
   "metadata": {},
   "outputs": [],
   "source": [
    "def split_train_test(data, test_ratio):\n",
    "    np.random.seed(42)\n",
    "    \n",
    "    shuffled = np.random.permutation(len(data))\n",
    "    test_set_size = int(len(data)*test_ratio)\n",
    "    \n",
    "    test_indices = shuffled[:test_set_size]\n",
    "    train_indices = shuffled[test_set_size:]\n",
    "    \n",
    "    return data.iloc[train_indices], data.iloc[test_indices]\n",
    "    "
   ]
  },
  {
   "cell_type": "code",
   "execution_count": 6,
   "id": "f151badf",
   "metadata": {},
   "outputs": [],
   "source": [
    "# train_set, test_set = split_train_test(housing, 0.2)\n",
    "\n",
    "# print(f\"Train set : {len(train_set)}\\nTest Set : {len(test_set)}\")"
   ]
  },
  {
   "cell_type": "code",
   "execution_count": 7,
   "id": "7cf584ac",
   "metadata": {},
   "outputs": [],
   "source": [
    "# from sklearn.model_selection import train_test_split;\n",
    "\n",
    "# train_set, test_set = train_test_split(housing, test_size = 0.2, random_state = 42)\n",
    "\n",
    "# print(f\"Train set : {len(train_set)}\\nTest Set : {len(test_set)}\")"
   ]
  },
  {
   "cell_type": "code",
   "execution_count": 8,
   "id": "813d3f15",
   "metadata": {
    "scrolled": true
   },
   "outputs": [
    {
     "data": {
      "text/html": [
       "<div>\n",
       "<style scoped>\n",
       "    .dataframe tbody tr th:only-of-type {\n",
       "        vertical-align: middle;\n",
       "    }\n",
       "\n",
       "    .dataframe tbody tr th {\n",
       "        vertical-align: top;\n",
       "    }\n",
       "\n",
       "    .dataframe thead th {\n",
       "        text-align: right;\n",
       "    }\n",
       "</style>\n",
       "<table border=\"1\" class=\"dataframe\">\n",
       "  <thead>\n",
       "    <tr style=\"text-align: right;\">\n",
       "      <th></th>\n",
       "      <th>CRIM</th>\n",
       "      <th>ZN</th>\n",
       "      <th>INDUS</th>\n",
       "      <th>CHAS</th>\n",
       "      <th>NOX</th>\n",
       "      <th>RM</th>\n",
       "      <th>AGE</th>\n",
       "      <th>DIS</th>\n",
       "      <th>RAD</th>\n",
       "      <th>TAX</th>\n",
       "      <th>PTRATION</th>\n",
       "      <th>B</th>\n",
       "      <th>LSTAT</th>\n",
       "      <th>MEDV</th>\n",
       "    </tr>\n",
       "  </thead>\n",
       "  <tbody>\n",
       "    <tr>\n",
       "      <th>350</th>\n",
       "      <td>0.06211</td>\n",
       "      <td>40.0</td>\n",
       "      <td>1.25</td>\n",
       "      <td>0</td>\n",
       "      <td>0.429</td>\n",
       "      <td>6.490</td>\n",
       "      <td>44.4</td>\n",
       "      <td>8.7921</td>\n",
       "      <td>1</td>\n",
       "      <td>335</td>\n",
       "      <td>19.7</td>\n",
       "      <td>396.90</td>\n",
       "      <td>5.98</td>\n",
       "      <td>22.9</td>\n",
       "    </tr>\n",
       "    <tr>\n",
       "      <th>187</th>\n",
       "      <td>0.07875</td>\n",
       "      <td>45.0</td>\n",
       "      <td>3.44</td>\n",
       "      <td>0</td>\n",
       "      <td>0.437</td>\n",
       "      <td>NaN</td>\n",
       "      <td>41.1</td>\n",
       "      <td>3.7886</td>\n",
       "      <td>5</td>\n",
       "      <td>398</td>\n",
       "      <td>15.2</td>\n",
       "      <td>393.87</td>\n",
       "      <td>6.68</td>\n",
       "      <td>32.0</td>\n",
       "    </tr>\n",
       "    <tr>\n",
       "      <th>102</th>\n",
       "      <td>0.22876</td>\n",
       "      <td>0.0</td>\n",
       "      <td>8.56</td>\n",
       "      <td>0</td>\n",
       "      <td>0.520</td>\n",
       "      <td>6.405</td>\n",
       "      <td>85.4</td>\n",
       "      <td>2.7147</td>\n",
       "      <td>5</td>\n",
       "      <td>384</td>\n",
       "      <td>20.9</td>\n",
       "      <td>70.80</td>\n",
       "      <td>10.63</td>\n",
       "      <td>18.6</td>\n",
       "    </tr>\n",
       "    <tr>\n",
       "      <th>195</th>\n",
       "      <td>0.01381</td>\n",
       "      <td>80.0</td>\n",
       "      <td>0.46</td>\n",
       "      <td>0</td>\n",
       "      <td>0.422</td>\n",
       "      <td>7.875</td>\n",
       "      <td>32.0</td>\n",
       "      <td>5.6484</td>\n",
       "      <td>4</td>\n",
       "      <td>255</td>\n",
       "      <td>14.4</td>\n",
       "      <td>394.23</td>\n",
       "      <td>2.97</td>\n",
       "      <td>50.0</td>\n",
       "    </tr>\n",
       "    <tr>\n",
       "      <th>175</th>\n",
       "      <td>0.06664</td>\n",
       "      <td>0.0</td>\n",
       "      <td>4.05</td>\n",
       "      <td>0</td>\n",
       "      <td>0.510</td>\n",
       "      <td>6.546</td>\n",
       "      <td>33.1</td>\n",
       "      <td>3.1323</td>\n",
       "      <td>5</td>\n",
       "      <td>296</td>\n",
       "      <td>16.6</td>\n",
       "      <td>390.96</td>\n",
       "      <td>5.33</td>\n",
       "      <td>29.4</td>\n",
       "    </tr>\n",
       "  </tbody>\n",
       "</table>\n",
       "</div>"
      ],
      "text/plain": [
       "        CRIM    ZN  INDUS  CHAS    NOX     RM   AGE     DIS  RAD  TAX  \\\n",
       "350  0.06211  40.0   1.25     0  0.429  6.490  44.4  8.7921    1  335   \n",
       "187  0.07875  45.0   3.44     0  0.437    NaN  41.1  3.7886    5  398   \n",
       "102  0.22876   0.0   8.56     0  0.520  6.405  85.4  2.7147    5  384   \n",
       "195  0.01381  80.0   0.46     0  0.422  7.875  32.0  5.6484    4  255   \n",
       "175  0.06664   0.0   4.05     0  0.510  6.546  33.1  3.1323    5  296   \n",
       "\n",
       "     PTRATION       B  LSTAT  MEDV  \n",
       "350      19.7  396.90   5.98  22.9  \n",
       "187      15.2  393.87   6.68  32.0  \n",
       "102      20.9   70.80  10.63  18.6  \n",
       "195      14.4  394.23   2.97  50.0  \n",
       "175      16.6  390.96   5.33  29.4  "
      ]
     },
     "execution_count": 8,
     "metadata": {},
     "output_type": "execute_result"
    }
   ],
   "source": [
    "#straitified Random Sampling to split the data equally feature-wise\n",
    "from sklearn.model_selection import StratifiedShuffleSplit\n",
    "\n",
    "split = StratifiedShuffleSplit(n_splits=5, test_size = 0.2, random_state = 42)\n",
    "\n",
    "for train_index, test_index in split.split(housing, housing['CHAS']):\n",
    "    strat_train_set = housing.loc[train_index]\n",
    "    strat_test_set = housing.loc[test_index]\n",
    "    \n",
    "strat_test_set.head()"
   ]
  },
  {
   "cell_type": "code",
   "execution_count": 9,
   "id": "524077b7",
   "metadata": {},
   "outputs": [],
   "source": [
    "# Data processing and correlation should be done on train set\n",
    "housing = strat_train_set.copy()"
   ]
  },
  {
   "cell_type": "markdown",
   "id": "93d05ade",
   "metadata": {},
   "source": [
    "## Looking for correlation\n",
    "\n",
    "Correlation will help us to see the relation between features.\n",
    "If the data have some outliers (means the commom relation is not satified), then we can remove it. For eg. MEDV is directly proportional to RM and inversely proportional to LSTAT. So any deviation from this can be removed."
   ]
  },
  {
   "cell_type": "code",
   "execution_count": 10,
   "id": "8e446708",
   "metadata": {},
   "outputs": [
    {
     "data": {
      "text/plain": [
       "MEDV        1.000000\n",
       "RM          0.717751\n",
       "ZN          0.331983\n",
       "B           0.312481\n",
       "DIS         0.239204\n",
       "CHAS        0.169625\n",
       "RAD        -0.360931\n",
       "AGE        -0.362472\n",
       "CRIM       -0.389661\n",
       "NOX        -0.419263\n",
       "TAX        -0.445126\n",
       "INDUS      -0.458958\n",
       "PTRATION   -0.476419\n",
       "LSTAT      -0.736789\n",
       "Name: MEDV, dtype: float64"
      ]
     },
     "execution_count": 10,
     "metadata": {},
     "output_type": "execute_result"
    }
   ],
   "source": [
    "corr_matrix = housing.corr();\n",
    "# corr_matrix.head()\n",
    "\n",
    "corr_matrix['MEDV'].sort_values(ascending=False)"
   ]
  },
  {
   "cell_type": "code",
   "execution_count": 11,
   "id": "9bb979c2",
   "metadata": {},
   "outputs": [
    {
     "data": {
      "text/plain": [
       "array([[<AxesSubplot:xlabel='MEDV', ylabel='MEDV'>,\n",
       "        <AxesSubplot:xlabel='RM', ylabel='MEDV'>,\n",
       "        <AxesSubplot:xlabel='ZN', ylabel='MEDV'>,\n",
       "        <AxesSubplot:xlabel='LSTAT', ylabel='MEDV'>],\n",
       "       [<AxesSubplot:xlabel='MEDV', ylabel='RM'>,\n",
       "        <AxesSubplot:xlabel='RM', ylabel='RM'>,\n",
       "        <AxesSubplot:xlabel='ZN', ylabel='RM'>,\n",
       "        <AxesSubplot:xlabel='LSTAT', ylabel='RM'>],\n",
       "       [<AxesSubplot:xlabel='MEDV', ylabel='ZN'>,\n",
       "        <AxesSubplot:xlabel='RM', ylabel='ZN'>,\n",
       "        <AxesSubplot:xlabel='ZN', ylabel='ZN'>,\n",
       "        <AxesSubplot:xlabel='LSTAT', ylabel='ZN'>],\n",
       "       [<AxesSubplot:xlabel='MEDV', ylabel='LSTAT'>,\n",
       "        <AxesSubplot:xlabel='RM', ylabel='LSTAT'>,\n",
       "        <AxesSubplot:xlabel='ZN', ylabel='LSTAT'>,\n",
       "        <AxesSubplot:xlabel='LSTAT', ylabel='LSTAT'>]], dtype=object)"
      ]
     },
     "execution_count": 11,
     "metadata": {},
     "output_type": "execute_result"
    },
    {
     "data": {
      "image/png": "[encoded data removed]",
      "text/plain": [
       "<Figure size 864x576 with 16 Axes>"
      ]
     },
     "metadata": {
      "needs_background": "light"
     },
     "output_type": "display_data"
    }
   ],
   "source": [
    "# Plotting the scatter plot of correlation matrix\n",
    "from pandas.plotting import scatter_matrix\n",
    "\n",
    "attributes = [\"MEDV\",\"RM\", \"ZN\", \"LSTAT\"]\n",
    "\n",
    "scatter_matrix(housing[attributes], figsize=(12, 8), alpha=1)"
   ]
  },
  {
   "cell_type": "code",
   "execution_count": 12,
   "id": "dcc11d4e",
   "metadata": {},
   "outputs": [
    {
     "data": {
      "text/plain": [
       "<AxesSubplot:xlabel='RM', ylabel='MEDV'>"
      ]
     },
     "execution_count": 12,
     "metadata": {},
     "output_type": "execute_result"
    },
    {
     "data": {
      "image/png": "[encoded data removed]",
      "text/plain": [
       "<Figure size 432x288 with 1 Axes>"
      ]
     },
     "metadata": {
      "needs_background": "light"
     },
     "output_type": "display_data"
    }
   ],
   "source": [
    "# As we can see there are some outliers at the boundary of plot. For eg. MEDV 50 is constant, it doesn't depends upon RM value\n",
    "\n",
    "housing.plot(kind=\"scatter\", y=\"MEDV\", x=\"RM\",alpha = 1)"
   ]
  },
  {
   "cell_type": "markdown",
   "id": "9cada9d2",
   "metadata": {},
   "source": [
    "## Trying out combinations of attributes"
   ]
  },
  {
   "cell_type": "code",
   "execution_count": 13,
   "id": "0fdf2518",
   "metadata": {},
   "outputs": [
    {
     "data": {
      "text/html": [
       "<div>\n",
       "<style scoped>\n",
       "    .dataframe tbody tr th:only-of-type {\n",
       "        vertical-align: middle;\n",
       "    }\n",
       "\n",
       "    .dataframe tbody tr th {\n",
       "        vertical-align: top;\n",
       "    }\n",
       "\n",
       "    .dataframe thead th {\n",
       "        text-align: right;\n",
       "    }\n",
       "</style>\n",
       "<table border=\"1\" class=\"dataframe\">\n",
       "  <thead>\n",
       "    <tr style=\"text-align: right;\">\n",
       "      <th></th>\n",
       "      <th>CRIM</th>\n",
       "      <th>ZN</th>\n",
       "      <th>INDUS</th>\n",
       "      <th>CHAS</th>\n",
       "      <th>NOX</th>\n",
       "      <th>RM</th>\n",
       "      <th>AGE</th>\n",
       "      <th>DIS</th>\n",
       "      <th>RAD</th>\n",
       "      <th>TAX</th>\n",
       "      <th>PTRATION</th>\n",
       "      <th>B</th>\n",
       "      <th>LSTAT</th>\n",
       "      <th>MEDV</th>\n",
       "      <th>TAXRM</th>\n",
       "    </tr>\n",
       "  </thead>\n",
       "  <tbody>\n",
       "    <tr>\n",
       "      <th>257</th>\n",
       "      <td>0.61154</td>\n",
       "      <td>20.0</td>\n",
       "      <td>3.97</td>\n",
       "      <td>0</td>\n",
       "      <td>0.647</td>\n",
       "      <td>8.704</td>\n",
       "      <td>86.9</td>\n",
       "      <td>1.8010</td>\n",
       "      <td>5</td>\n",
       "      <td>264</td>\n",
       "      <td>13.0</td>\n",
       "      <td>389.70</td>\n",
       "      <td>5.12</td>\n",
       "      <td>50.0</td>\n",
       "      <td>30.330882</td>\n",
       "    </tr>\n",
       "    <tr>\n",
       "      <th>429</th>\n",
       "      <td>9.33889</td>\n",
       "      <td>0.0</td>\n",
       "      <td>18.10</td>\n",
       "      <td>0</td>\n",
       "      <td>0.679</td>\n",
       "      <td>6.380</td>\n",
       "      <td>95.6</td>\n",
       "      <td>1.9682</td>\n",
       "      <td>24</td>\n",
       "      <td>666</td>\n",
       "      <td>20.2</td>\n",
       "      <td>60.72</td>\n",
       "      <td>24.08</td>\n",
       "      <td>9.5</td>\n",
       "      <td>104.388715</td>\n",
       "    </tr>\n",
       "    <tr>\n",
       "      <th>326</th>\n",
       "      <td>0.30347</td>\n",
       "      <td>0.0</td>\n",
       "      <td>7.38</td>\n",
       "      <td>0</td>\n",
       "      <td>0.493</td>\n",
       "      <td>6.312</td>\n",
       "      <td>28.9</td>\n",
       "      <td>5.4159</td>\n",
       "      <td>5</td>\n",
       "      <td>287</td>\n",
       "      <td>19.6</td>\n",
       "      <td>396.90</td>\n",
       "      <td>6.15</td>\n",
       "      <td>23.0</td>\n",
       "      <td>45.468948</td>\n",
       "    </tr>\n",
       "    <tr>\n",
       "      <th>214</th>\n",
       "      <td>0.28955</td>\n",
       "      <td>0.0</td>\n",
       "      <td>10.59</td>\n",
       "      <td>0</td>\n",
       "      <td>0.489</td>\n",
       "      <td>5.412</td>\n",
       "      <td>9.8</td>\n",
       "      <td>3.5875</td>\n",
       "      <td>4</td>\n",
       "      <td>277</td>\n",
       "      <td>18.6</td>\n",
       "      <td>348.93</td>\n",
       "      <td>29.55</td>\n",
       "      <td>23.7</td>\n",
       "      <td>51.182557</td>\n",
       "    </tr>\n",
       "    <tr>\n",
       "      <th>430</th>\n",
       "      <td>8.49213</td>\n",
       "      <td>0.0</td>\n",
       "      <td>18.10</td>\n",
       "      <td>0</td>\n",
       "      <td>0.584</td>\n",
       "      <td>6.348</td>\n",
       "      <td>86.1</td>\n",
       "      <td>2.0527</td>\n",
       "      <td>24</td>\n",
       "      <td>666</td>\n",
       "      <td>20.2</td>\n",
       "      <td>83.45</td>\n",
       "      <td>17.64</td>\n",
       "      <td>14.5</td>\n",
       "      <td>104.914934</td>\n",
       "    </tr>\n",
       "  </tbody>\n",
       "</table>\n",
       "</div>"
      ],
      "text/plain": [
       "        CRIM    ZN  INDUS  CHAS    NOX     RM   AGE     DIS  RAD  TAX  \\\n",
       "257  0.61154  20.0   3.97     0  0.647  8.704  86.9  1.8010    5  264   \n",
       "429  9.33889   0.0  18.10     0  0.679  6.380  95.6  1.9682   24  666   \n",
       "326  0.30347   0.0   7.38     0  0.493  6.312  28.9  5.4159    5  287   \n",
       "214  0.28955   0.0  10.59     0  0.489  5.412   9.8  3.5875    4  277   \n",
       "430  8.49213   0.0  18.10     0  0.584  6.348  86.1  2.0527   24  666   \n",
       "\n",
       "     PTRATION       B  LSTAT  MEDV       TAXRM  \n",
       "257      13.0  389.70   5.12  50.0   30.330882  \n",
       "429      20.2   60.72  24.08   9.5  104.388715  \n",
       "326      19.6  396.90   6.15  23.0   45.468948  \n",
       "214      18.6  348.93  29.55  23.7   51.182557  \n",
       "430      20.2   83.45  17.64  14.5  104.914934  "
      ]
     },
     "execution_count": 13,
     "metadata": {},
     "output_type": "execute_result"
    }
   ],
   "source": [
    "housing['TAXRM'] = housing['TAX']/housing['RM']\n",
    "housing.head() # Orginial data is not changing only housing dataframe is changing"
   ]
  },
  {
   "cell_type": "code",
   "execution_count": 14,
   "id": "50ceca61",
   "metadata": {},
   "outputs": [
    {
     "data": {
      "text/plain": [
       "<AxesSubplot:xlabel='TAXRM', ylabel='MEDV'>"
      ]
     },
     "execution_count": 14,
     "metadata": {},
     "output_type": "execute_result"
    },
    {
     "data": {
      "image/png": "[encoded data removed]",
      "text/plain": [
       "<Figure size 432x288 with 1 Axes>"
      ]
     },
     "metadata": {
      "needs_background": "light"
     },
     "output_type": "display_data"
    }
   ],
   "source": [
    "# TAXRM has now strong decreasing correlation with MEDV\n",
    "housing.plot(kind=\"scatter\", y=\"MEDV\", x=\"TAXRM\",alpha = 1)"
   ]
  },
  {
   "cell_type": "code",
   "execution_count": 15,
   "id": "0cf7a7ad",
   "metadata": {},
   "outputs": [],
   "source": [
    "housing = strat_train_set.drop(\"MEDV\", axis=1) #dropping the label column\n",
    "housing_labels = strat_train_set[\"MEDV\"].copy() #Kepping aside the label column"
   ]
  },
  {
   "cell_type": "markdown",
   "id": "10966700",
   "metadata": {},
   "source": [
    "## Mising Attributes\n",
    "\n",
    "if we have missing attributes then we have three options\n",
    "1. Get rid of missing datapoints\n",
    "2. Get rid of whole attribute\n",
    "3. Set the NA value to some(0, mean or meadian)"
   ]
  },
  {
   "cell_type": "code",
   "execution_count": 16,
   "id": "78d51bee",
   "metadata": {},
   "outputs": [
    {
     "data": {
      "text/plain": [
       "(402, 13)"
      ]
     },
     "execution_count": 16,
     "metadata": {},
     "output_type": "execute_result"
    }
   ],
   "source": [
    "# Option 1\n",
    "a = housing.dropna(subset=['RM'])\n",
    "a.shape"
   ]
  },
  {
   "cell_type": "code",
   "execution_count": 17,
   "id": "8c303d1e",
   "metadata": {},
   "outputs": [
    {
     "data": {
      "text/plain": [
       "(404, 12)"
      ]
     },
     "execution_count": 17,
     "metadata": {},
     "output_type": "execute_result"
    }
   ],
   "source": [
    "# Option 2\n",
    "a = housing.drop('RM', axis=1)\n",
    "a.shape"
   ]
  },
  {
   "cell_type": "code",
   "execution_count": 18,
   "id": "c5da4a3a",
   "metadata": {},
   "outputs": [
    {
     "data": {
      "text/plain": [
       "257    8.704\n",
       "429    6.380\n",
       "326    6.312\n",
       "214    5.412\n",
       "430    6.348\n",
       "       ...  \n",
       "107    6.127\n",
       "44     6.069\n",
       "60     5.741\n",
       "176    6.020\n",
       "109    6.229\n",
       "Name: RM, Length: 404, dtype: float64"
      ]
     },
     "execution_count": 18,
     "metadata": {},
     "output_type": "execute_result"
    }
   ],
   "source": [
    "# Option 3\n",
    "median = housing['RM'].median()\n",
    "housing['RM'].fillna(median)"
   ]
  },
  {
   "cell_type": "code",
   "execution_count": 19,
   "id": "a41563f0",
   "metadata": {},
   "outputs": [
    {
     "data": {
      "text/plain": [
       "SimpleImputer(strategy='median')"
      ]
     },
     "execution_count": 19,
     "metadata": {},
     "output_type": "execute_result"
    }
   ],
   "source": [
    "# Option 3 can be done with sklear\n",
    "from sklearn.impute import SimpleImputer\n",
    "\n",
    "imputer = SimpleImputer(strategy=\"median\")\n",
    "imputer.fit(housing)"
   ]
  },
  {
   "cell_type": "code",
   "execution_count": 20,
   "id": "1c763c08",
   "metadata": {},
   "outputs": [
    {
     "data": {
      "text/plain": [
       "array([2.53715e-01, 0.00000e+00, 9.69000e+00, 0.00000e+00, 5.38000e-01,\n",
       "       6.18900e+00, 7.79000e+01, 3.29480e+00, 5.00000e+00, 3.30000e+02,\n",
       "       1.90000e+01, 3.91305e+02, 1.14900e+01])"
      ]
     },
     "execution_count": 20,
     "metadata": {},
     "output_type": "execute_result"
    }
   ],
   "source": [
    "imputer.statistics_"
   ]
  },
  {
   "cell_type": "code",
   "execution_count": 21,
   "id": "c659acf8",
   "metadata": {},
   "outputs": [],
   "source": [
    "# We need to impute for each column\n",
    "x = imputer.transform(housing)"
   ]
  },
  {
   "cell_type": "code",
   "execution_count": 22,
   "id": "73f3dff4",
   "metadata": {},
   "outputs": [
    {
     "data": {
      "text/html": [
       "<div>\n",
       "<style scoped>\n",
       "    .dataframe tbody tr th:only-of-type {\n",
       "        vertical-align: middle;\n",
       "    }\n",
       "\n",
       "    .dataframe tbody tr th {\n",
       "        vertical-align: top;\n",
       "    }\n",
       "\n",
       "    .dataframe thead th {\n",
       "        text-align: right;\n",
       "    }\n",
       "</style>\n",
       "<table border=\"1\" class=\"dataframe\">\n",
       "  <thead>\n",
       "    <tr style=\"text-align: right;\">\n",
       "      <th></th>\n",
       "      <th>CRIM</th>\n",
       "      <th>ZN</th>\n",
       "      <th>INDUS</th>\n",
       "      <th>CHAS</th>\n",
       "      <th>NOX</th>\n",
       "      <th>RM</th>\n",
       "      <th>AGE</th>\n",
       "      <th>DIS</th>\n",
       "      <th>RAD</th>\n",
       "      <th>TAX</th>\n",
       "      <th>PTRATION</th>\n",
       "      <th>B</th>\n",
       "      <th>LSTAT</th>\n",
       "    </tr>\n",
       "  </thead>\n",
       "  <tbody>\n",
       "    <tr>\n",
       "      <th>count</th>\n",
       "      <td>404.000000</td>\n",
       "      <td>404.000000</td>\n",
       "      <td>404.000000</td>\n",
       "      <td>404.000000</td>\n",
       "      <td>404.000000</td>\n",
       "      <td>404.000000</td>\n",
       "      <td>404.000000</td>\n",
       "      <td>404.000000</td>\n",
       "      <td>404.000000</td>\n",
       "      <td>404.000000</td>\n",
       "      <td>404.000000</td>\n",
       "      <td>404.000000</td>\n",
       "      <td>404.000000</td>\n",
       "    </tr>\n",
       "    <tr>\n",
       "      <th>mean</th>\n",
       "      <td>3.616959</td>\n",
       "      <td>11.029703</td>\n",
       "      <td>11.272970</td>\n",
       "      <td>0.069307</td>\n",
       "      <td>0.553915</td>\n",
       "      <td>6.273807</td>\n",
       "      <td>68.734158</td>\n",
       "      <td>3.825968</td>\n",
       "      <td>9.455446</td>\n",
       "      <td>406.240099</td>\n",
       "      <td>18.435644</td>\n",
       "      <td>360.372946</td>\n",
       "      <td>12.637426</td>\n",
       "    </tr>\n",
       "    <tr>\n",
       "      <th>std</th>\n",
       "      <td>8.592811</td>\n",
       "      <td>23.312269</td>\n",
       "      <td>6.872212</td>\n",
       "      <td>0.254290</td>\n",
       "      <td>0.117127</td>\n",
       "      <td>0.725057</td>\n",
       "      <td>28.328015</td>\n",
       "      <td>2.103024</td>\n",
       "      <td>8.632014</td>\n",
       "      <td>167.617754</td>\n",
       "      <td>2.157983</td>\n",
       "      <td>83.829737</td>\n",
       "      <td>7.125695</td>\n",
       "    </tr>\n",
       "    <tr>\n",
       "      <th>min</th>\n",
       "      <td>0.006320</td>\n",
       "      <td>0.000000</td>\n",
       "      <td>0.740000</td>\n",
       "      <td>0.000000</td>\n",
       "      <td>0.385000</td>\n",
       "      <td>3.561000</td>\n",
       "      <td>2.900000</td>\n",
       "      <td>1.137000</td>\n",
       "      <td>1.000000</td>\n",
       "      <td>188.000000</td>\n",
       "      <td>12.600000</td>\n",
       "      <td>2.520000</td>\n",
       "      <td>1.730000</td>\n",
       "    </tr>\n",
       "    <tr>\n",
       "      <th>25%</th>\n",
       "      <td>0.086962</td>\n",
       "      <td>0.000000</td>\n",
       "      <td>5.190000</td>\n",
       "      <td>0.000000</td>\n",
       "      <td>0.448750</td>\n",
       "      <td>5.879750</td>\n",
       "      <td>45.675000</td>\n",
       "      <td>2.097050</td>\n",
       "      <td>4.000000</td>\n",
       "      <td>281.000000</td>\n",
       "      <td>17.000000</td>\n",
       "      <td>375.782500</td>\n",
       "      <td>6.840000</td>\n",
       "    </tr>\n",
       "    <tr>\n",
       "      <th>50%</th>\n",
       "      <td>0.253715</td>\n",
       "      <td>0.000000</td>\n",
       "      <td>9.690000</td>\n",
       "      <td>0.000000</td>\n",
       "      <td>0.538000</td>\n",
       "      <td>6.189000</td>\n",
       "      <td>77.900000</td>\n",
       "      <td>3.294800</td>\n",
       "      <td>5.000000</td>\n",
       "      <td>330.000000</td>\n",
       "      <td>19.000000</td>\n",
       "      <td>391.305000</td>\n",
       "      <td>11.490000</td>\n",
       "    </tr>\n",
       "    <tr>\n",
       "      <th>75%</th>\n",
       "      <td>3.489463</td>\n",
       "      <td>12.500000</td>\n",
       "      <td>18.100000</td>\n",
       "      <td>0.000000</td>\n",
       "      <td>0.624000</td>\n",
       "      <td>6.569000</td>\n",
       "      <td>94.100000</td>\n",
       "      <td>5.255350</td>\n",
       "      <td>24.000000</td>\n",
       "      <td>666.000000</td>\n",
       "      <td>20.200000</td>\n",
       "      <td>396.157500</td>\n",
       "      <td>16.780000</td>\n",
       "    </tr>\n",
       "    <tr>\n",
       "      <th>max</th>\n",
       "      <td>88.976200</td>\n",
       "      <td>100.000000</td>\n",
       "      <td>27.740000</td>\n",
       "      <td>1.000000</td>\n",
       "      <td>0.871000</td>\n",
       "      <td>8.780000</td>\n",
       "      <td>100.000000</td>\n",
       "      <td>10.710300</td>\n",
       "      <td>24.000000</td>\n",
       "      <td>711.000000</td>\n",
       "      <td>22.000000</td>\n",
       "      <td>396.900000</td>\n",
       "      <td>37.970000</td>\n",
       "    </tr>\n",
       "  </tbody>\n",
       "</table>\n",
       "</div>"
      ],
      "text/plain": [
       "             CRIM          ZN       INDUS        CHAS         NOX          RM  \\\n",
       "count  404.000000  404.000000  404.000000  404.000000  404.000000  404.000000   \n",
       "mean     3.616959   11.029703   11.272970    0.069307    0.553915    6.273807   \n",
       "std      8.592811   23.312269    6.872212    0.254290    0.117127    0.725057   \n",
       "min      0.006320    0.000000    0.740000    0.000000    0.385000    3.561000   \n",
       "25%      0.086962    0.000000    5.190000    0.000000    0.448750    5.879750   \n",
       "50%      0.253715    0.000000    9.690000    0.000000    0.538000    6.189000   \n",
       "75%      3.489463   12.500000   18.100000    0.000000    0.624000    6.569000   \n",
       "max     88.976200  100.000000   27.740000    1.000000    0.871000    8.780000   \n",
       "\n",
       "              AGE         DIS         RAD         TAX    PTRATION           B  \\\n",
       "count  404.000000  404.000000  404.000000  404.000000  404.000000  404.000000   \n",
       "mean    68.734158    3.825968    9.455446  406.240099   18.435644  360.372946   \n",
       "std     28.328015    2.103024    8.632014  167.617754    2.157983   83.829737   \n",
       "min      2.900000    1.137000    1.000000  188.000000   12.600000    2.520000   \n",
       "25%     45.675000    2.097050    4.000000  281.000000   17.000000  375.782500   \n",
       "50%     77.900000    3.294800    5.000000  330.000000   19.000000  391.305000   \n",
       "75%     94.100000    5.255350   24.000000  666.000000   20.200000  396.157500   \n",
       "max    100.000000   10.710300   24.000000  711.000000   22.000000  396.900000   \n",
       "\n",
       "            LSTAT  \n",
       "count  404.000000  \n",
       "mean    12.637426  \n",
       "std      7.125695  \n",
       "min      1.730000  \n",
       "25%      6.840000  \n",
       "50%     11.490000  \n",
       "75%     16.780000  \n",
       "max     37.970000  "
      ]
     },
     "execution_count": 22,
     "metadata": {},
     "output_type": "execute_result"
    }
   ],
   "source": [
    "# new tranform housing dataframe\n",
    "housing_tr = pd.DataFrame(x, columns=housing.columns)\n",
    "housing_tr.describe()"
   ]
  },
  {
   "cell_type": "markdown",
   "id": "7001ef4b",
   "metadata": {},
   "source": [
    "## Scikit-learn Design\n",
    "\n",
    "Primarily three types of object\n",
    "\n",
    "1. **Estimators** - It estimates some parameters based on dataset. For eg. Imputer. It has a fit() and tranform() method. Fit methods fits on the dataset and calculate internal parameters.\n",
    "\n",
    "2. **Tranformer** - Transform method takes input and gives output based on the learnings from fit(). It also has a convenience function called fit_tranform() which fits and then tranform.\n",
    "\n",
    "3. **Predictors** - LinearRegression model is an example of predictors. fit() and predict() are two common functions. It also gives score() function which evalutes the prediction."
   ]
  },
  {
   "cell_type": "markdown",
   "id": "3cd656bf",
   "metadata": {},
   "source": [
    "## Feature Scaling\n",
    "\n",
    "Most of ML algo works well when all the features have same scale. Primarily, there are two types of scaling methods.\n",
    "\n",
    "1. **Min-Max scaling(Normalization)** -\n",
    "\n",
    "    (value-min)/(max-min) ->  scales all the data features in the range [0, 1] or else in the range [-1, 1] if there are negative values in the dataset.\n",
    "    \n",
    "    Sklearn provides a class called MinMaxScaler for this\n",
    "</br>\n",
    "2. **Standardization**\n",
    "\n",
    "    (value-mean)/standard deviation\n",
    "    \n",
    "    Sklearn provides a class called StandardScaler for this.  "
   ]
  },
  {
   "cell_type": "markdown",
   "id": "3d73579f",
   "metadata": {},
   "source": [
    "## Creating a Pipeline(Series of steps to automate the process)"
   ]
  },
  {
   "cell_type": "code",
   "execution_count": 45,
   "id": "b9595119",
   "metadata": {},
   "outputs": [],
   "source": [
    "from sklearn.pipeline import Pipeline\n",
    "from sklearn.preprocessing import StandardScaler, RobustScaler\n",
    "\n",
    "my_pipeline = Pipeline([\n",
    "    (\"imputer\", SimpleImputer(strategy=\"median\")),\n",
    "    (\"robust_scalar\", RobustScaler()), #remove the outliers\n",
    "#     ...add as many as we want \n",
    "    (\"std_scalar\", StandardScaler())\n",
    "])"
   ]
  },
  {
   "cell_type": "code",
   "execution_count": 46,
   "id": "0cf48bf3",
   "metadata": {},
   "outputs": [],
   "source": [
    "housing_num_tr = my_pipeline.fit_transform(housing) #convert it into a numpy array"
   ]
  },
  {
   "cell_type": "markdown",
   "id": "e1468ba2",
   "metadata": {},
   "source": [
    "## Selecting a desired model"
   ]
  },
  {
   "cell_type": "code",
   "execution_count": 83,
   "id": "917cf6eb",
   "metadata": {},
   "outputs": [
    {
     "data": {
      "text/plain": [
       "RandomForestRegressor()"
      ]
     },
     "execution_count": 83,
     "metadata": {},
     "output_type": "execute_result"
    }
   ],
   "source": [
    "from sklearn.linear_model import LinearRegression, SGDRegressor\n",
    "from sklearn.tree import DecisionTreeRegressor\n",
    "from sklearn.ensemble import RandomForestRegressor\n",
    "from sklearn import svm\n",
    "from sklearn.neighbors import KNeighborsRegressor\n",
    "\n",
    "# model = LinearRegression()\n",
    "# model = DecisionTreeRegressor()\n",
    "model = RandomForestRegressor()\n",
    "# model = svm.SVR()\n",
    "# model = SGDRegressor()\n",
    "# model = KNeighborsRegressor()\n",
    "model.fit(housing_num_tr, housing_labels)"
   ]
  },
  {
   "cell_type": "code",
   "execution_count": 84,
   "id": "78b86fdf",
   "metadata": {},
   "outputs": [
    {
     "data": {
      "text/plain": [
       "array([47.991, 10.744, 23.715, 22.014, 14.544])"
      ]
     },
     "execution_count": 84,
     "metadata": {},
     "output_type": "execute_result"
    }
   ],
   "source": [
    "some_data = housing.iloc[:5]\n",
    "some_labels = housing_labels[:5]\n",
    "\n",
    "prepared_data = my_pipeline.transform(some_data)\n",
    "\n",
    "# Predicted values by the model for top 5 rows\n",
    "model.predict(prepared_data)"
   ]
  },
  {
   "cell_type": "code",
   "execution_count": 85,
   "id": "ce8d5fa6",
   "metadata": {},
   "outputs": [
    {
     "data": {
      "text/plain": [
       "[50.0, 9.5, 23.0, 23.7, 14.5]"
      ]
     },
     "execution_count": 85,
     "metadata": {},
     "output_type": "execute_result"
    }
   ],
   "source": [
    "list(some_labels) #compare cell 30(predicted by mode) and 31 (orginal values)"
   ]
  },
  {
   "cell_type": "markdown",
   "id": "2ffefa14",
   "metadata": {},
   "source": [
    "## Evaluating the model"
   ]
  },
  {
   "cell_type": "code",
   "execution_count": 86,
   "id": "ab1377a1",
   "metadata": {},
   "outputs": [
    {
     "name": "stdout",
     "output_type": "stream",
     "text": [
      "1.2857941944168354\n"
     ]
    }
   ],
   "source": [
    "from sklearn.metrics import mean_squared_error\n",
    "\n",
    "housing_predictions = model.predict(housing_num_tr)\n",
    "\n",
    "# Mean sqaure error\n",
    "mse = mean_squared_error(housing_labels, housing_predictions)\n",
    "\n",
    "# Root mean square error\n",
    "rmse = np.sqrt(mse)\n",
    "\n",
    "print(rmse) ## 21.43524092329359 for housing predictions when using LinearRegression Model which is not good So will try another models\n",
    "# mse is 0.0 when using DecisionTreeRegressor which means overfitting"
   ]
  },
  {
   "cell_type": "markdown",
   "id": "7535fd2e",
   "metadata": {},
   "source": [
    "## Using better Evaluation technique - Cross-Validation\n",
    "\n",
    "k-fold validation breaks the training data into k groups and train the model from (k-i) groups and validate on ith ground (i -> [1, k])"
   ]
  },
  {
   "cell_type": "code",
   "execution_count": 87,
   "id": "04cd8e25",
   "metadata": {
    "scrolled": true
   },
   "outputs": [
    {
     "name": "stdout",
     "output_type": "stream",
     "text": [
      "[3.57057728 3.4592868  2.97288336 3.19372353 3.32355467 3.61001119\n",
      " 6.22497456 2.57999495 2.4135373  3.04677508]\n"
     ]
    }
   ],
   "source": [
    "from sklearn.model_selection import cross_val_score\n",
    "\n",
    "# Scores are -negative\n",
    "scores = cross_val_score(model, housing_num_tr, housing_labels, scoring=\"neg_mean_squared_error\", cv=10)\n",
    "\n",
    "rmse = np.sqrt(-scores);\n",
    "print(rmse)\n",
    "\n",
    "# With LinearRegression Model\n",
    "# [5.288762   4.59872089 5.29315084 5.3645698  4.37817507 5.57339352\n",
    "#  6.57699541 3.2416322  3.03025077 4.30442185]\n",
    "\n",
    "# With DecisionTree Model\n",
    "# [4.37442679 4.5675419  2.88739903 3.85676473 4.7770022  4.53034215\n",
    "#  8.75197121 3.53797258 4.60239068 3.98644579]"
   ]
  },
  {
   "cell_type": "code",
   "execution_count": 88,
   "id": "cc1c038e",
   "metadata": {},
   "outputs": [
    {
     "name": "stdout",
     "output_type": "stream",
     "text": [
      "Scores :  [3.57057728 3.4592868  2.97288336 3.19372353 3.32355467 3.61001119\n",
      " 6.22497456 2.57999495 2.4135373  3.04677508]\n",
      "Mean :  3.439531873516299\n",
      "Standard Deviation :  1.0021315827346402\n"
     ]
    }
   ],
   "source": [
    "def print_scores(scores):\n",
    "    print(\"Scores : \", scores)\n",
    "    print(\"Mean : \", scores.mean())\n",
    "    print(\"Standard Deviation : \", scores.std())\n",
    "    \n",
    "print_scores(rmse)"
   ]
  },
  {
   "cell_type": "markdown",
   "id": "0a9b9edc",
   "metadata": {},
   "source": [
    "## Saving the model"
   ]
  },
  {
   "cell_type": "code",
   "execution_count": 31,
   "id": "e544bb8d",
   "metadata": {},
   "outputs": [
    {
     "data": {
      "text/plain": [
       "['RandomForest.joblib']"
      ]
     },
     "execution_count": 31,
     "metadata": {},
     "output_type": "execute_result"
    }
   ],
   "source": [
    "from joblib import dump, load\n",
    "dump(model, 'RandomForest.joblib') "
   ]
  },
  {
   "cell_type": "markdown",
   "id": "e0cb8b62",
   "metadata": {},
   "source": [
    "## Testing the Model"
   ]
  },
  {
   "cell_type": "code",
   "execution_count": 32,
   "id": "3b907a9f",
   "metadata": {},
   "outputs": [
    {
     "name": "stdout",
     "output_type": "stream",
     "text": [
      "3.3956044106646877\n"
     ]
    }
   ],
   "source": [
    "x_test = strat_test_set.drop(\"MEDV\", axis=1)\n",
    "y_test = strat_test_set[\"MEDV\"].copy()\n",
    "\n",
    "x_test_prepared = my_pipeline.transform(x_test)\n",
    "\n",
    "final_predictions = model.predict(x_test_prepared)\n",
    "final_mse = mean_squared_error(y_test, final_predictions)\n",
    "final_rmse = np.sqrt(final_mse)\n",
    "\n",
    "print(final_rmse)"
   ]
  },
  {
   "cell_type": "code",
   "execution_count": 33,
   "id": "f8bea752",
   "metadata": {},
   "outputs": [
    {
     "data": {
      "text/plain": [
       "array([-0.4142133 ,  1.24424687, -1.46028651, -0.27288841, -1.06781296,\n",
       "        0.29854378, -0.860079  ,  2.36435297, -0.98075955, -0.42554222,\n",
       "        0.58662381,  0.43626936, -0.93544287])"
      ]
     },
     "execution_count": 33,
     "metadata": {},
     "output_type": "execute_result"
    }
   ],
   "source": [
    "x_test_prepared[0]"
   ]
  },
  {
   "cell_type": "markdown",
   "id": "1deda61e",
   "metadata": {},
   "source": [
    "## Using a model"
   ]
  },
  {
   "cell_type": "code",
   "execution_count": 34,
   "id": "333d9f07",
   "metadata": {},
   "outputs": [
    {
     "data": {
      "text/plain": [
       "array([22.933])"
      ]
     },
     "execution_count": 34,
     "metadata": {},
     "output_type": "execute_result"
    }
   ],
   "source": [
    "model = load('RandomForest.joblib')\n",
    "\n",
    "features = np.array([[-0.4142133 ,  1.24424687, -1.46028651, -0.27288841, -1.06781296,\n",
    "        0.29854378, -0.860079  ,  2.36435297, -0.98075955, -0.42554222,\n",
    "        0.58662381,  0.43626936, -0.93544287]])\n",
    "\n",
    "model.predict(features)"
   ]
  },
  {
   "cell_type": "code",
   "execution_count": null,
   "id": "9b2e3987",
   "metadata": {},
   "outputs": [],
   "source": []
  }
 ],
 "metadata": {
  "kernelspec": {
   "display_name": "Python 3 (ipykernel)",
   "language": "python",
   "name": "python3"
  },
  "language_info": {
   "codemirror_mode": {
    "name": "ipython",
    "version": 3
   },
   "file_extension": ".py",
   "mimetype": "text/x-python",
   "name": "python",
   "nbconvert_exporter": "python",
   "pygments_lexer": "ipython3",
   "version": "3.9.4"
  }
 },
 "nbformat": 4,
 "nbformat_minor": 5
}
